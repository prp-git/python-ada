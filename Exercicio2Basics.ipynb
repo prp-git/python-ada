{
 "cells": [
  {
   "cell_type": "code",
   "execution_count": 187,
   "id": "72023fb3",
   "metadata": {},
   "outputs": [
    {
     "name": "stdout",
     "output_type": "stream",
     "text": [
      "[24, 37, 42, 69, 88, 105, 116, 127, 132, 144, 166, 195, 221, 225, 235, 236, 247, 252, 268, 270, 297, 298, 315, 318, 318, 344, 349, 375, 404, 410, 429, 444, 463, 476, 485, 496, 498, 523, 537, 544, 545, 574, 588, 604, 624, 630, 637, 664, 684, 712, 721, 729, 732, 737, 742, 743, 752, 774, 796, 798, 821, 832, 849, 878, 880, 893, 911, 918, 926, 945, 964, 984, 996, 1016, 1040, 1046, 1067, 1080, 1107, 1112, 1134, 1138, 1154, 1165, 1178, 1181, 1183, 1184, 1212, 1218, 1229, 1244, 1255, 1272, 1278, 1284, 1287, 1310, 1333, 1363]\n",
      "O numero de PARES total é  61\n"
     ]
    }
   ],
   "source": [
    "#1. Faça um programa que olhe todos os itens de uma lista e diga quantos deles são pares.\n",
    "import random\n",
    "\n",
    "tamanho_lista = 100\n",
    "\n",
    "\n",
    "#Criando lista aleatória\n",
    "lista = []\n",
    "elemento = 0\n",
    "for item in range (0, tamanho_lista):\n",
    "    delta = round(random.random()*30)\n",
    "    elemento += delta\n",
    "    lista.append(elemento)\n",
    "print(lista)\n",
    "\n",
    "#Teste e contagem de PARES\n",
    "num_pares = 0\n",
    "for num in (lista):\n",
    "    if num % 2 == 0:\n",
    "        num_pares += 1\n",
    "    \n",
    "print('O numero de PARES total é ', num_pares)\n"
   ]
  },
  {
   "cell_type": "code",
   "execution_count": 193,
   "id": "206c96fd",
   "metadata": {},
   "outputs": [
    {
     "name": "stdout",
     "output_type": "stream",
     "text": [
      "Entre com a palavra...Admirável\n",
      "A\n",
      "d\n",
      "m\n",
      "i\n",
      "r\n",
      "á\n",
      "v\n",
      "e\n",
      "l\n"
     ]
    }
   ],
   "source": [
    "#2. Faça um programa que peça para o usuário digitar uma palavra e imprima cada letra em uma linha.\n",
    "\n",
    "palavra = input(\"Entre com a palavra...\")\n",
    "\n",
    "for letra in palavra:\n",
    "    print(letra)"
   ]
  },
  {
   "cell_type": "code",
   "execution_count": 302,
   "id": "ba8dee71",
   "metadata": {
    "scrolled": true
   },
   "outputs": [
    {
     "name": "stdout",
     "output_type": "stream",
     "text": [
      "Tamanho da lista2\n",
      "lista1 [6, 4]\n",
      "lista2 [7, 7]\n",
      "lista_soma [13, 11]\n"
     ]
    }
   ],
   "source": [
    "#3. Faça uma função que recebe duas listas e retorna a soma item a item dessas listas.\n",
    "#Exemplo: Se a função receber as listas [1,4,3] e [3,5,1], então a função deve\n",
    "#retornar [1+3, 4+5, 3+1] = [4, 9, 4].\n",
    "\n",
    "import random\n",
    "\n",
    "#Informa tamanho das listas\n",
    "tamanho_lista = int(input('Tamanho da lista'))\n",
    "\n",
    "#Montagem primeira lista aleatória\n",
    "lista1 = []\n",
    "for item in range (tamanho_lista):\n",
    "    lista1.append(round(random.random()*10))\n",
    "\n",
    "#Montagem segunda lista aleatória\n",
    "lista2 = []\n",
    "for item in range (tamanho_lista):\n",
    "    lista2.append(round(random.random()*10))\n",
    "\n",
    "#Montagem de lista com soma dos valores das duas primeiras\n",
    "lista_soma =[]\n",
    "for item in range (tamanho_lista):\n",
    "    lista_soma.append(lista1[item] + lista2[item])\n",
    "\n",
    "#Impressão de listas\n",
    "print ('lista1', lista1)\n",
    "print ('lista2', lista2)\n",
    "print ('lista_soma', lista_soma)\n"
   ]
  },
  {
   "cell_type": "code",
   "execution_count": 29,
   "id": "b6b21d41",
   "metadata": {},
   "outputs": [
    {
     "name": "stdout",
     "output_type": "stream",
     "text": [
      "Ano:2024\n",
      "{'January': 31, 'February': 29, 'March': 31, 'April': 30, 'May': 31, 'June': 30, 'July': 31, 'August': 31, 'September': 30, 'October': 31, 'November': 30, 'December': 31}\n"
     ]
    }
   ],
   "source": [
    "#4. Crie um dicionário cujas chaves são os meses do ano e os valores são a duração (em dias) de cada mês.\n",
    "\n",
    "#Escolha do ano pois ano bissexto altera no mês de fevereiro\n",
    "ano = int(input('Ano:'))\n",
    "\n",
    "meses_duracao = {}\n",
    "\n",
    "#Itera mes a mes criando os dados no dicionário\n",
    "for mes in range(1,13):\n",
    "    #Obtem no de cada mês\n",
    "    nome_mes = calendar.month_name[mes]\n",
    "\n",
    "    #Obtem duração de cada mês\n",
    "    mes_detalhes = calendar.monthrange(ano, mes)\n",
    "    #Desempacotando tupla com dia inicial e duração do mês\n",
    "    dia_inicial, duracao_mes = mes_detalhes\n",
    "    meses_duracao[nome_mes] = duracao_mes\n",
    "\n",
    "#Impressão do dicionário\n",
    "print(meses_duracao)\n"
   ]
  },
  {
   "cell_type": "code",
   "execution_count": 76,
   "id": "7f6591a8",
   "metadata": {},
   "outputs": [
    {
     "name": "stdout",
     "output_type": "stream",
     "text": [
      "January - 31\n",
      "February - 29\n",
      "March - 31\n",
      "April - 30\n",
      "May - 31\n",
      "June - 30\n",
      "July - 31\n",
      "August - 31\n",
      "September - 30\n",
      "October - 31\n",
      "November - 30\n",
      "December - 31\n"
     ]
    }
   ],
   "source": [
    "#5. Imprima as chaves seguidas dos seus valores para dicionário criado no\n",
    "#exercício anterior.\n",
    "#Exemplo:\n",
    "#Janeiro - 31\n",
    "#Fevereiro - 28\n",
    "#Março - 31\n",
    "#Etc...\n",
    "\n",
    "#Escolha do ano pois ano bissexto altera no mês de fevereiro\n",
    "ano = 2000#int(input('Ano:'))\n",
    "\n",
    "meses_duracao = {}\n",
    "\n",
    "#Itera mes a mes criando os dados no dicionário\n",
    "for mes in range(1,13):\n",
    "    #Obtem no de cada mês\n",
    "    nome_mes = calendar.month_name[mes]\n",
    "\n",
    "    #Obtem duração de cada mês\n",
    "    mes_detalhes = calendar.monthrange(ano, mes)\n",
    "    #Desempacotando tupla com dia inicial e duração do mês\n",
    "    dia_inicial, duracao_mes = mes_detalhes\n",
    "    meses_duracao[nome_mes] = duracao_mes\n",
    "\n",
    "#Extraindo lista dos meses\n",
    "lista_mes = list(meses_duracao.keys())\n",
    "#Imprimindo nome do meses contatenado com duração dos mesmos\n",
    "for key in lista_mes:\n",
    "    print(key, '-', meses_duracao[key]) \n"
   ]
  }
 ],
 "metadata": {
  "kernelspec": {
   "display_name": "Python 3 (ipykernel)",
   "language": "python",
   "name": "python3"
  },
  "language_info": {
   "codemirror_mode": {
    "name": "ipython",
    "version": 3
   },
   "file_extension": ".py",
   "mimetype": "text/x-python",
   "name": "python",
   "nbconvert_exporter": "python",
   "pygments_lexer": "ipython3",
   "version": "3.8.10"
  }
 },
 "nbformat": 4,
 "nbformat_minor": 5
}
