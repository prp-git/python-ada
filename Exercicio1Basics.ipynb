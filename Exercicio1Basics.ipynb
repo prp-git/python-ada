{
 "cells": [
  {
   "cell_type": "code",
   "execution_count": 1,
   "id": "849187b5",
   "metadata": {},
   "outputs": [
    {
     "name": "stdout",
     "output_type": "stream",
     "text": [
      "Informe o valor200\n",
      "O novo valor é 170.0\n"
     ]
    }
   ],
   "source": [
    "#Faça um programa que peça um valor monetário e diminua-o em 15%.\n",
    "#Seu programa deve imprimir a mensagem “O novo valor é [valor]”.\n",
    "\n",
    "valor = input('Informe o valor')\n",
    "\n",
    "valor_descontado = float(valor) * 0.85\n",
    "\n",
    "print('O novo valor é', valor_descontado)"
   ]
  },
  {
   "cell_type": "code",
   "execution_count": 2,
   "id": "97ef09d9",
   "metadata": {},
   "outputs": [
    {
     "name": "stdout",
     "output_type": "stream",
     "text": [
      "Informe Idade (entre 0 e 150)54\n",
      "Informe salário (não pode ser nulo)2000\n",
      "Informe Sexo: (M, F ou Outro)m\n"
     ]
    }
   ],
   "source": [
    "#Faça um programa que leia a validade das informações:\n",
    "#a. Idade: entre 0 e 150;\n",
    "#b. Salário: maior que 0;\n",
    "#c. Sexo: M, F ou Outro;\n",
    "#O programa deve imprimir uma mensagem de erro para cada informação\n",
    "#inválida.\n",
    "\n",
    "idade = int(input('Informe Idade (entre 0 e 150)'))\n",
    "if idade < 0 or idade > 150:\n",
    "    print('Idade inválida!')\n",
    "    \n",
    "salario = float(input('Informe salário (não pode ser nulo)'))\n",
    "if salario <= 0:\n",
    "    print('Salário inválido!')\n",
    "\n",
    "sexo = input('Informe Sexo: (M, F ou Outro)').title()\n",
    "if sexo !='M' and sexo != 'F' and sexo !='Outro':\n",
    "        print('Sexo inválido!')\n",
    "\n"
   ]
  },
  {
   "cell_type": "code",
   "execution_count": 3,
   "id": "a1ce00a9",
   "metadata": {},
   "outputs": [
    {
     "name": "stdout",
     "output_type": "stream",
     "text": [
      "Mora perto da vítima?sim\n",
      "Já trabalhou com a vítima?sim\n",
      "Telefonou para a vítima?sim\n",
      "Esteve no local do crime?nao\n",
      "Devia para a vítima?nao\n",
      "Pontuação = 3\n",
      "O suspeito é CÚMPLICE!\n"
     ]
    }
   ],
   "source": [
    "#3. Vamos fazer um programa para verificar quem é o assassino de um crime.\n",
    "#Para descobrir o assassino, a polícia faz um pequeno questionário com 5\n",
    "#perguntas onde a resposta só pode ser sim ou não:\n",
    "#a. Mora perto da vítima?\n",
    "#b. Já trabalhou com a vítima?\n",
    "#c. Telefonou para a vítima?\n",
    "#d. Esteve no local do crime?\n",
    "#e. Devia para a vítima?\n",
    "#Cada resposta sim dá um ponto para o suspeito. A polícia considera que os\n",
    "#suspeitos com 5 pontos são os assassinos, com 4 a 3 pontos são cúmplices e\n",
    "#2 pontos são apenas suspeitos, necessitando outras investigações. Valores\n",
    "#iguais ou abaixo de 1 são liberados.\n",
    "\n",
    "pontuacao = 0\n",
    "questao1 = input('Mora perto da vítima?').title()\n",
    "if questao1 == 'Sim':\n",
    "    pontuacao += 1\n",
    "    \n",
    "questao2 = input('Já trabalhou com a vítima?').title()\n",
    "if questao2 == 'Sim':\n",
    "    pontuacao += 1\n",
    "    \n",
    "questao3 = input('Telefonou para a vítima?').title()\n",
    "if questao3 == 'Sim':\n",
    "    pontuacao += 1\n",
    "\n",
    "questao4 = input('Esteve no local do crime?').title()\n",
    "if questao4 == 'Sim':\n",
    "    pontuacao += 1\n",
    "\n",
    "questao5 = input('Devia para a vítima?').title()\n",
    "if questao5 == 'Sim':\n",
    "    pontuacao += 1\n",
    "\n",
    "print('Pontuação =', pontuacao)\n",
    "\n",
    "if pontuacao == 5:\n",
    "    print('O suspeito é o ASSASSINO!')\n",
    "if pontuacao > 2 and pontuacao < 5:\n",
    "    print('O suspeito é CÚMPLICE!')\n",
    "if pontuacao == 2:\n",
    "    print('APENAS SUSPEITO!')\n",
    "if pontuacao < 2:\n",
    "    print('O suspeito foi LIBERADO!')\n",
    "\n",
    "\n"
   ]
  },
  {
   "cell_type": "code",
   "execution_count": 5,
   "id": "73e0343e",
   "metadata": {},
   "outputs": [
    {
     "name": "stdout",
     "output_type": "stream",
     "text": [
      "9 x 0 = 0\n",
      "9 x 1 = 9\n",
      "9 x 2 = 18\n",
      "9 x 3 = 27\n",
      "9 x 4 = 36\n",
      "9 x 5 = 45\n",
      "9 x 6 = 54\n",
      "9 x 7 = 63\n",
      "9 x 8 = 72\n",
      "9 x 9 = 81\n"
     ]
    }
   ],
   "source": [
    "#Faça um programa que imprima a tabuada do 9 (de 9*1 a 9*10) usando loops.\n",
    "contador = 0\n",
    "while contador < 10:\n",
    "    print('9 x', contador, \"=\", (9 * contador))\n",
    "    contador += 1"
   ]
  }
 ],
 "metadata": {
  "kernelspec": {
   "display_name": "Python 3 (ipykernel)",
   "language": "python",
   "name": "python3"
  },
  "language_info": {
   "codemirror_mode": {
    "name": "ipython",
    "version": 3
   },
   "file_extension": ".py",
   "mimetype": "text/x-python",
   "name": "python",
   "nbconvert_exporter": "python",
   "pygments_lexer": "ipython3",
   "version": "3.8.10"
  }
 },
 "nbformat": 4,
 "nbformat_minor": 5
}
