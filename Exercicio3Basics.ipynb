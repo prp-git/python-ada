{
 "cells": [
  {
   "cell_type": "code",
   "execution_count": null,
   "id": "820f3ea1",
   "metadata": {},
   "outputs": [],
   "source": [
    "#1 - Neste exercício você deve criar um programa que abra o arquivo \"alunos.csv\" e imprima o conteúdo\n",
    "#do arquivo linha a linha.\n",
    "\n",
    "import csv\n",
    "with open(\"alunos.csv\", \"r\", encoding=\"utf-8\") as file:\n",
    "    leitor = csv.reader(file)\n",
    "    for linha in leitor:\n",
    "        print(linha)"
   ]
  },
  {
   "cell_type": "code",
   "execution_count": 56,
   "id": "4edd24c4",
   "metadata": {},
   "outputs": [],
   "source": [
    "#2 - Para o segundo exercício, você deve criar um programa que realize uma\n",
    "#cópia do arquivo \"alunos.csv\". Essa cópia deve ser um arquivo chamado\n",
    "#\"alunos_copia.csv\".\n",
    "\n",
    "import csv\n",
    "#Cria lista temporária para gravar dados csv no próximo arquivo\n",
    "lista_temp =[]\n",
    "\n",
    "#Leitura de linha e atribuicao na lista temporária\n",
    "with open('alunos.csv', 'r', encoding='utf-8') as file:\n",
    "    leitor = csv.reader(file)\n",
    "    for item in leitor:\n",
    "        lista_temp.append(item)\n",
    "\n",
    "#Uso da lista temporária para gravar no novo arquivo\n",
    "with open('alunos_copia.csv', 'w', encoding='utf-8') as novo:\n",
    "    escritor = csv.writer(novo)\n",
    "    escritor.writerow(lista_temp)"
   ]
  },
  {
   "cell_type": "code",
   "execution_count": 57,
   "id": "5a8732c0",
   "metadata": {},
   "outputs": [],
   "source": [
    "# 3 - Finalmente chegamos ao último exercício dessa sequência relacionada à\n",
    "# manipulação de arquivos.\n",
    "# Neste exercício você deve criar um novo arquivo chamado\n",
    "# \"alunos_media.csv\". Esse novo arquivo é uma cópia de \"alunos.csv\" porém\n",
    "# com uma coluna a mais chamada \"Média\" que vai abrigar os valores das\n",
    "# médias das provas de cada aluno da lista.\n",
    "\n",
    "import csv\n",
    "\n",
    "def media_notas(n1, n2, n3, n4):\n",
    "    return (n1 + n2 + n3 + n4) / 4\n",
    "\n",
    "#Cria lista temporária vazia e vai preenchendo com os dados originais acrescidos da média na última coluna\n",
    "lista_temp = []\n",
    "\n",
    "with open('alunos.csv', 'r', encoding='utf-8') as file:\n",
    "    leitor = csv.reader(file)\n",
    "    num_linha = 0\n",
    "    for linha in leitor:\n",
    "        if num_linha == 0:\n",
    "            linha.append('Média')\n",
    "        else:\n",
    "            linha.append(media_notas(float(linha[3]),float(linha[4]),float(linha[5]),float(linha[6]),))\n",
    "        \n",
    "        lista_temp.append(linha)\n",
    "        \n",
    "        num_linha += 1\n",
    "        \n",
    "with open('alunos_media.csv', 'w', encoding='utf-8') as novocsv:\n",
    "    escritor = csv.writer(novocsv)\n",
    "    escritor.writerow(lista_temp)"
   ]
  },
  {
   "cell_type": "code",
   "execution_count": 58,
   "id": "a4f163c2",
   "metadata": {},
   "outputs": [
    {
     "name": "stdout",
     "output_type": "stream",
     "text": [
      "Nome: Darth Vader\n",
      "Altura: 202\n",
      "Massa: 136\n",
      "Ano de nascimento: 41.9BBY\n"
     ]
    }
   ],
   "source": [
    "# 4 - Você conhece Star Wars? Se trata, obviamente, da famosa saga espacial\n",
    "# criada por George Lucas em 1977 e que deu origem a símbolos do cinema e\n",
    "# da cultura pop com o imponente vilão Darth Vader ou o simpático robô\n",
    "# R2-D2. A ideia desse exercício é justamente extrair informações do\n",
    "# personagem Darth Vader através de uma API de Star Wars chamada SWAPI.\n",
    "# Utilize a URL \"https://swapi.dev/api/people/4/\" para fazer a requisição dos\n",
    "# dados de Darth Vader e extraia as informações \"name\" (nome), \"height\"\n",
    "# (altura), \"mass\" (massa) e \"birth_year\" (ano de nascimento) e imprima cada\n",
    "# dado em uma linha.\n",
    "\n",
    "import requests\n",
    "\n",
    "url ='https://swapi.dev/api/people/4/'\n",
    "\n",
    "req = requests.get(url)\n",
    "\n",
    "(req.status_code)\n",
    "dados = req.json()\n",
    "\n",
    "print('Nome:', dados['name'])\n",
    "print('Altura:', dados['height'])\n",
    "print('Massa:', dados['mass'])\n",
    "print('Ano de nascimento:', dados['birth_year'])\n"
   ]
  },
  {
   "cell_type": "code",
   "execution_count": 59,
   "id": "564c7a31",
   "metadata": {},
   "outputs": [
    {
     "name": "stdout",
     "output_type": "stream",
     "text": [
      "2020-02-26T00:00:00Z --> Casos identificados: 1\n"
     ]
    }
   ],
   "source": [
    "# 5 - Em 2019 surgiram os primeiros casos de COVID-19 que se alastrou pelo\n",
    "# mundo resultando numa pandemia. A proposta deste exercício é utilizar\n",
    "# uma API com informações de COVID-19 do mundo todo desde o início da\n",
    "# proliferação e descobrir que dia o Brasil confirmou o primeiro caso de\n",
    "# Coronavírus.\n",
    "# Para fazer isso, utilize a URL \"https://api.covid19api.com/country/brazil\" em seu\n",
    "# código. Ela retorna uma lista de dicionários, onde cada dicionário traz\n",
    "# informações através das chaves:\n",
    "# \"ID\", \"Country\", \"CountryCode\", \"Province\", \"City\",\n",
    "# \"CityCode\",\"Lat\",\"Lon\",\"Confirmed\",\"Deaths\", \"Recovered\", \"Active\" e \"Date\".\n",
    "# Utilize essas informações e retorne a data em que o Brasil confirmou o\n",
    "# primeiro caso de COVID.\n",
    "\n",
    "import requests\n",
    "\n",
    "url ='https://api.covid19api.com/country/brazil'\n",
    "\n",
    "req = requests.get(url)\n",
    "\n",
    "dados = req.json()\n",
    "\n",
    "for reg in dados:\n",
    "    if int(reg['Confirmed']) > 0:\n",
    "        print(reg['Date'],'-->','Casos identificados:',reg['Confirmed'])\n",
    "        break\n"
   ]
  }
 ],
 "metadata": {
  "kernelspec": {
   "display_name": "Python 3 (ipykernel)",
   "language": "python",
   "name": "python3"
  },
  "language_info": {
   "codemirror_mode": {
    "name": "ipython",
    "version": 3
   },
   "file_extension": ".py",
   "mimetype": "text/x-python",
   "name": "python",
   "nbconvert_exporter": "python",
   "pygments_lexer": "ipython3",
   "version": "3.8.10"
  },
  "vscode": {
   "interpreter": {
    "hash": "916dbcbb3f70747c44a77c7bcd40155683ae19c65e1c03b4aa3499c5328201f1"
   }
  }
 },
 "nbformat": 4,
 "nbformat_minor": 5
}
