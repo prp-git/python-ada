{
 "cells": [
  {
   "cell_type": "code",
   "execution_count": 6,
   "id": "07cfc9ca",
   "metadata": {},
   "outputs": [],
   "source": [
    "#Faça um programa que peça um valor monetário e diminua-o em 15%.\n",
    "#Seu programa deve imprimir a mensagem “O novo valor é [valor]”."
   ]
  },
  {
   "cell_type": "code",
   "execution_count": 7,
   "id": "35ef483d",
   "metadata": {},
   "outputs": [
    {
     "name": "stdout",
     "output_type": "stream",
     "text": [
      "Informe o valor450\n",
      "O novo valor é 382.5\n"
     ]
    }
   ],
   "source": [
    "valor = input('Informe o valor')\n",
    "\n",
    "valor_descontado = float(valor) * 0.85\n",
    "\n",
    "print('O novo valor é', valor_descontado)"
   ]
  },
  {
   "cell_type": "code",
   "execution_count": null,
   "id": "b09adee4",
   "metadata": {},
   "outputs": [],
   "source": []
  }
 ],
 "metadata": {
  "kernelspec": {
   "display_name": "Python 3 (ipykernel)",
   "language": "python",
   "name": "python3"
  },
  "language_info": {
   "codemirror_mode": {
    "name": "ipython",
    "version": 3
   },
   "file_extension": ".py",
   "mimetype": "text/x-python",
   "name": "python",
   "nbconvert_exporter": "python",
   "pygments_lexer": "ipython3",
   "version": "3.8.10"
  }
 },
 "nbformat": 4,
 "nbformat_minor": 5
}
